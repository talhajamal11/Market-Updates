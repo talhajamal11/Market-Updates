{
 "cells": [
  {
   "cell_type": "code",
   "execution_count": 17,
   "metadata": {},
   "outputs": [],
   "source": [
    "import pandas as pd \n",
    "import numpy as np \n",
    "import matplotlib as mpl \n",
    "from market_data import MarketDataYFinance\n",
    "import datetime as dt\n",
    "import yfinance as yf "
   ]
  },
  {
   "cell_type": "code",
   "execution_count": 40,
   "metadata": {},
   "outputs": [
    {
     "data": {
      "text/plain": [
       "'MMM AOS ABT ABBV ACN ADBE AMD AES AFL A APD ABNB AKAM ALB ARE ALGN ALLE LNT ALL GOOGL GOOG MO AMZN AMCR AEE AAL AEP AXP AIG AMT AWK AMP AME AMGN APH ADI ANSS AON APA AAPL AMAT APTV ACGL ADM ANET AJG AIZ T ATO ADSK ADP AZO AVB AVY AXON BKR BALL BAC BK BBWI BAX BDX BRK.B BBY BIO TECH BIIB BLK BX BA BKNG BWA BXP BSX BMY AVGO BR BRO BF.B BLDR BG CDNS CZR CPT CPB COF CAH KMX CCL CARR CTLT CAT CBOE CBRE CDW CE COR CNC CNP CDAY CF CHRW CRL SCHW CHTR CVX CMG CB CHD CI CINF CTAS CSCO C CFG CLX CME CMS KO CTSH CL CMCSA CMA CAG COP ED STZ CEG COO CPRT GLW CTVA CSGP COST CTRA CCI CSX CMI CVS DHR DRI DVA DE DAL XRAY DVN DXCM FANG DLR DFS DG DLTR D DPZ DOV DOW DHI DTE DUK DD EMN ETN EBAY ECL EIX EW EA ELV LLY EMR ENPH ETR EOG EPAM EQT EFX EQIX EQR ESS EL ETSY EG EVRG ES EXC EXPE EXPD EXR XOM FFIV FDS FICO FAST FRT FDX FIS FITB FSLR FE FI FLT FMC F FTNT FTV FOXA FOX BEN FCX GRMN IT GEHC GEN GNRC GD GE GIS GM GPC GILD GPN GL GS HAL HIG HAS HCA PEAK HSIC HSY HES HPE HLT HOLX HD HON HRL HST HWM HPQ HUBB HUM HBAN HII IBM IEX IDXX ITW ILMN INCY IR PODD INTC ICE IFF IP IPG INTU ISRG IVZ INVH IQV IRM JBHT JBL JKHY J JNJ JCI JPM JNPR K KVUE KDP KEY KEYS KMB KIM KMI KLAC KHC KR LHX LH LRCX LW LVS LDOS LEN LIN LYV LKQ LMT L LOW LULU LYB MTB MRO MPC MKTX MAR MMC MLM MAS MA MTCH MKC MCD MCK MDT MRK META MET MTD MGM MCHP MU MSFT MAA MRNA MHK MOH TAP MDLZ MPWR MNST MCO MS MOS MSI MSCI NDAQ NTAP NFLX NEM NWSA NWS NEE NKE NI NDSN NSC NTRS NOC NCLH NRG NUE NVDA NVR NXPI ORLY OXY ODFL OMC ON OKE ORCL OTIS PCAR PKG PANW PARA PH PAYX PAYC PYPL PNR PEP PFE PCG PM PSX PNW PXD PNC POOL PPG PPL PFG PG PGR PLD PRU PEG PTC PSA PHM QRVO PWR QCOM DGX RL RJF RTX O REG REGN RF RSG RMD RVTY RHI ROK ROL ROP ROST RCL SPGI CRM SBAC SLB STX SRE NOW SHW SPG SWKS SJM SNA SO LUV SWK SBUX STT STLD STE SYK SYF SNPS SYY TMUS TROW TTWO TPR TRGP TGT TEL TDY TFX TER TSLA TXN TXT TMO TJX TSCO TT TDG TRV TRMB TFC TYL TSN USB UBER UDR ULTA UNP UAL UPS URI UNH UHS VLO VTR VLTO VRSN VRSK VZ VRTX VFC VTRS VICI V VMC WRB WAB WBA WMT DIS WBD WM WAT WEC WFC WELL WST WDC WRK WY WHR WMB WTW GWW WYNN XEL XYL YUM ZBRA ZBH ZION ZTS'"
      ]
     },
     "execution_count": 40,
     "metadata": {},
     "output_type": "execute_result"
    }
   ],
   "source": [
    "# Get SP500 Tickers\n",
    "sp500 = pd.read_csv('/Users/talhajamal/Desktop/Code/Daily Market Update /data/sp500.csv')\n",
    "sp500_tickers = ','.join(sp500['Symbol']).replace(',',' ')"
   ]
  },
  {
   "cell_type": "code",
   "execution_count": 72,
   "metadata": {},
   "outputs": [
    {
     "name": "stdout",
     "output_type": "stream",
     "text": [
      "[*********************100%%**********************]  503 of 503 completed"
     ]
    },
    {
     "name": "stderr",
     "output_type": "stream",
     "text": [
      "\n",
      "2 Failed downloads:\n",
      "['BF.B']: Exception('%ticker%: No price data found, symbol may be delisted (period=2y)')\n",
      "['BRK.B']: Exception('%ticker%: No data found, symbol may be delisted')\n"
     ]
    },
    {
     "name": "stdout",
     "output_type": "stream",
     "text": [
      "\n"
     ]
    }
   ],
   "source": [
    "# 1 Year Data\n",
    "data = yf.download(sp500_tickers, period='2y')"
   ]
  },
  {
   "cell_type": "code",
   "execution_count": 73,
   "metadata": {},
   "outputs": [],
   "source": [
    "# Performance Metrics\n",
    "performance_metrics = {\n",
    "    '1d': data['Adj Close'].pct_change(fill_method=None).tail(1),\n",
    "    '1w': data['Adj Close'].pct_change(fill_method=None, periods=5).tail(1),\n",
    "    '1m': data['Adj Close'].pct_change(fill_method=None, periods=21).tail(1),\n",
    "    '1y': data['Adj Close'].pct_change(fill_method=None, periods=252).tail(1)\n",
    "}"
   ]
  },
  {
   "cell_type": "code",
   "execution_count": 82,
   "metadata": {},
   "outputs": [],
   "source": [
    "# Find top 10 performing stocks for each period\n",
    "top_performers = {period: metric.iloc[0].nlargest(10) for period, metric in performance_metrics.items()}"
   ]
  },
  {
   "cell_type": "code",
   "execution_count": 87,
   "metadata": {},
   "outputs": [
    {
     "name": "stdout",
     "output_type": "stream",
     "text": [
      "Top 10 performers for 1d:\n",
      "ANSS    0.180829\n",
      "MRNA    0.040917\n",
      "ALB     0.031901\n",
      "ALLE    0.025283\n",
      "BMY     0.020094\n",
      "INTC    0.019541\n",
      "INCY    0.018804\n",
      "RVTY    0.018438\n",
      "EXPD    0.017684\n",
      "AMGN    0.017291\n",
      "Name: 2023-12-22 00:00:00, dtype: float64\n",
      "Top 10 performers for 1w:\n",
      "ANSS     0.211561\n",
      "MRNA     0.103244\n",
      "ILMN     0.101495\n",
      "JCI      0.081999\n",
      "ENPH     0.081262\n",
      "ALLE     0.073179\n",
      "GOOGL    0.067044\n",
      "PFE      0.066466\n",
      "GOOG     0.066348\n",
      "ALGN     0.066115\n",
      "Name: 2023-12-22 00:00:00, dtype: float64\n",
      "Top 10 performers for 1m:\n",
      "NCLH    0.455872\n",
      "BBWI    0.455252\n",
      "ILMN    0.432079\n",
      "ENPH    0.337226\n",
      "BXP     0.312894\n",
      "CCL     0.308224\n",
      "GM      0.285512\n",
      "DFS     0.283567\n",
      "CMA     0.281418\n",
      "ZION    0.278698\n",
      "Name: 2023-12-22 00:00:00, dtype: float64\n",
      "Top 10 performers for 1y:\n",
      "NVDA    1.960527\n",
      "META    1.950818\n",
      "BLDR    1.528194\n",
      "RCL     1.474619\n",
      "UBER    1.433360\n",
      "PHM     1.258701\n",
      "CCL     1.232311\n",
      "AMD     1.062648\n",
      "AVGO    1.044645\n",
      "CRM     1.044052\n",
      "Name: 2023-12-22 00:00:00, dtype: float64\n"
     ]
    }
   ],
   "source": [
    "for period, top in top_performers.items():\n",
    "    print(f\"Top 10 performers for {period}:\")\n",
    "    print(top)"
   ]
  },
  {
   "cell_type": "code",
   "execution_count": null,
   "metadata": {},
   "outputs": [],
   "source": []
  }
 ],
 "metadata": {
  "kernelspec": {
   "display_name": "daily_mkt_update",
   "language": "python",
   "name": "python3"
  },
  "language_info": {
   "codemirror_mode": {
    "name": "ipython",
    "version": 3
   },
   "file_extension": ".py",
   "mimetype": "text/x-python",
   "name": "python",
   "nbconvert_exporter": "python",
   "pygments_lexer": "ipython3",
   "version": "3.11.3"
  }
 },
 "nbformat": 4,
 "nbformat_minor": 2
}
